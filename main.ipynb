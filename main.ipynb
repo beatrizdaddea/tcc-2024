{
 "cells": [
  {
   "cell_type": "code",
   "execution_count": null,
   "metadata": {},
   "outputs": [],
   "source": [
    "pip install ultralytics\n",
    "pip install yolov8"
   ]
  },
  {
   "cell_type": "code",
   "execution_count": null,
   "metadata": {},
   "outputs": [],
   "source": [
    "from ultralytics import YOLO\n",
    "from roboflow import Roboflow\n",
    "import os\n",
    "from IPython.display import display, Image\n",
    "import glob"
   ]
  },
  {
   "cell_type": "code",
   "execution_count": null,
   "metadata": {},
   "outputs": [],
   "source": [
    "\n",
    "def main():\n",
    "    # Configuração do Roboflow\n",
    "    rf = Roboflow(api_key=\"zW0D9OODuFlxgjHFbdD8\")\n",
    "    project = rf.workspace(\"workspace-mji8r\").project(\"landslide-vw86w\")\n",
    "    version = project.version(1)\n",
    "    dataset = version.download(\"yolov8\")\n",
    "\n",
    "    # Treinamento do modelo\n",
    "    train_command = f\"yolo task=segment mode=train model=yolov8m.pt data={dataset.location}/data.yaml epochs=20 imgsz=640\"\n",
    "    os.system(train_command)\n",
    "\n",
    "    # Exibição de imagens\n",
    "    display(Image(filename='/content/runs/detect/train/confusion_matrix.png', width=600))\n",
    "    display(Image(filename='/content/runs/detect/train/results.png', width=600))\n",
    "\n",
    "    # Validação do modelo\n",
    "    val_command = f\"yolo task=detect mode=val model=/content/runs/detect/train/weights/best.pt data={dataset.location}/data.yaml\"\n",
    "    os.system(val_command)\n",
    "\n",
    "    # Predição do modelo\n",
    "    predict_command = f\"yolo task=detect mode=predict model=/content/runs/detect/train/weights/best.pt conf=0.25 source={dataset.location}/test/images save=True\"\n",
    "    os.system(predict_command)\n",
    "\n",
    "    # Exibição de imagens preditas\n",
    "    for image_path in glob.glob(f'/content/runs/detect/predict/*.jpg'):\n",
    "        display(Image(filename=image_path, height=600))\n",
    "        print(\"\\n\")\n",
    "\n"
   ]
  },
  {
   "cell_type": "code",
   "execution_count": null,
   "metadata": {},
   "outputs": [],
   "source": [
    "if __name__ == \"__main__\":\n",
    "    main()"
   ]
  }
 ],
 "metadata": {
  "language_info": {
   "name": "python"
  }
 },
 "nbformat": 4,
 "nbformat_minor": 2
}
