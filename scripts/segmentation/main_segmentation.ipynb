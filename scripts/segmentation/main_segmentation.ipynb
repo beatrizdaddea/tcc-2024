{
 "cells": [
  {
   "cell_type": "code",
   "execution_count": null,
   "metadata": {},
   "outputs": [],
   "source": [
    "import os\n",
    "\n",
    "def training():\n",
    "    dataset_path = 'data/data.yaml'\n",
    "    train_command = f\"yolo task=segment mode=train model=yolov8m.pt data={dataset_path}/data.yaml epochs=20 imgsz=640\"\n",
    "    os.system(train_command)\n",
    "\n",
    "training()"
   ]
  }
 ],
 "metadata": {
  "language_info": {
   "name": "python"
  }
 },
 "nbformat": 4,
 "nbformat_minor": 2
}
