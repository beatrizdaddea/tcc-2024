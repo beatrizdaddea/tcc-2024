{
 "cells": [
  {
   "cell_type": "code",
   "execution_count": null,
   "metadata": {},
   "outputs": [],
   "source": [
    "import os\n",
    "\n",
    "def training():\n",
    "    dataset_path = 'tcc-2024/data/data.yaml'\n",
    "    \n",
    "    train_command = f\"yolo task=segment mode=train model=yolov8m.pt data={dataset_path}/data.yaml epochs=20 imgsz=640\"\n",
    "    os.system(train_command)\n",
    "\n",
    "training()\n"
   ]
  }
 ],
 "metadata": {
  "kernelspec": {
   "display_name": "Python 3",
   "language": "python",
   "name": "python3"
  },
  "language_info": {
   "name": "python",
   "version": "3.12.0"
  }
 },
 "nbformat": 4,
 "nbformat_minor": 2
}
