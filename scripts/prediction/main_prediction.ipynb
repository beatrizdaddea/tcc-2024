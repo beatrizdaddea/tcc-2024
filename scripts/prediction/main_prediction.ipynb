{
 "cells": [
  {
   "cell_type": "code",
   "execution_count": null,
   "metadata": {},
   "outputs": [],
   "source": [
    "def prediction():\n",
    "    predict_command = f\"yolo task=detect mode=predict model=/content/runs/detect/train/weights/best.pt conf=0.25 source={dataset.location}/test/images save=True\"\n",
    "    os.system(predict_command)\n",
    "    \n",
    "\n",
    "def validation():\n",
    "    val_command = f\"yolo task=detect mode=val model=/content/runs/detect/train/weights/best.pt data={dataset.location}/data.yaml\"\n",
    "    os.system(val_command)"
   ]
  }
 ],
 "metadata": {
  "language_info": {
   "name": "python"
  }
 },
 "nbformat": 4,
 "nbformat_minor": 2
}
